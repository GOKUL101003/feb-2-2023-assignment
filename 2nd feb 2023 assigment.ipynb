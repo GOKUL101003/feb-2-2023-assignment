{
 "cells": [
  {
   "cell_type": "code",
   "execution_count": null,
   "id": "49944f6d-fb0a-4e80-95c1-f01d33f578c6",
   "metadata": {},
   "outputs": [],
   "source": [
    "\"\"\"\n",
    "Q1. What are the characteristics of the tuples? Is tuple immutable?\n",
    "characterestics of tuple: \n",
    "soln: 1. it is represented by circular paranthesis.\n",
    "      2. it can store variety of elements of different data types.\n",
    "         yes,tuples are immutable. the elements of the tuple cant be changed.\n",
    "\"\"\"\n",
    "\n"
   ]
  },
  {
   "cell_type": "code",
   "execution_count": 12,
   "id": "7a58d811-6a49-4995-8517-acd4051ccc3b",
   "metadata": {},
   "outputs": [
    {
     "data": {
      "text/plain": [
       "2"
      ]
     },
     "execution_count": 12,
     "metadata": {},
     "output_type": "execute_result"
    }
   ],
   "source": [
    "\"\"\"\n",
    "Q2. What are the two tuple methods in python? Give an example of each method. Give a reason why\n",
    "tuples have only two in-built methods as compared to Lists.\n",
    "soln : The two tuple methods are count and index. \n",
    "\"\"\"\n",
    "#example : \n",
    "t = (1,2,3,\"gokul\",\"anand\",True)\n",
    "t.count(1)\n"
   ]
  },
  {
   "cell_type": "code",
   "execution_count": 13,
   "id": "475d5aa4-33b6-47d9-9236-e7291aa57e17",
   "metadata": {},
   "outputs": [
    {
     "data": {
      "text/plain": [
       "3"
      ]
     },
     "execution_count": 13,
     "metadata": {},
     "output_type": "execute_result"
    }
   ],
   "source": [
    "\n",
    "t.index(\"gokul\")"
   ]
  },
  {
   "cell_type": "code",
   "execution_count": null,
   "id": "ff3a7b37-5a90-4e9e-b7a5-7a03b2448a6e",
   "metadata": {},
   "outputs": [],
   "source": [
    "\"\"\"\n",
    "Tuples have only two methods compared to list as tuples are immutable and elements of the tuple cant be changed whereas elements of the list\n",
    "can be changed and hence lists are mutable\n",
    "\"\"\""
   ]
  },
  {
   "cell_type": "code",
   "execution_count": null,
   "id": "70aa5a81-429d-41fe-8e54-d07804cf6a2b",
   "metadata": {},
   "outputs": [],
   "source": [
    "\"\"\"\n",
    "Q3. Which collection datatypes in python do not allow duplicate items? Write a code using a set to remove\n",
    "duplicates from the given list.\n",
    "List = [1, 1, 1, 2, 1, 3, 1, 4, 2, 1, 2, 2, 2, 3, 2, 4, 3, 1, 3, 2, 3, 3, 3, 4, 4, 1, 4, 2, 4, 3, 4, 4]\n",
    "\"\"\""
   ]
  },
  {
   "cell_type": "code",
   "execution_count": null,
   "id": "ad52c5f9-8d62-41f1-8b42-4ed9edb3d586",
   "metadata": {},
   "outputs": [],
   "source": [
    "\"\"\"\n",
    "soln: sets do not allow duplicate items or repeating items. \n",
    "\"\"\""
   ]
  },
  {
   "cell_type": "code",
   "execution_count": 14,
   "id": "54f25715-19c9-4d8e-ac8c-3c6f4e521b94",
   "metadata": {},
   "outputs": [
    {
     "data": {
      "text/plain": [
       "{1, 2, 3, 4}"
      ]
     },
     "execution_count": 14,
     "metadata": {},
     "output_type": "execute_result"
    }
   ],
   "source": [
    "List = [1, 1, 1, 2, 1, 3, 1, 4, 2, 1, 2, 2, 2, 3, 2, 4, 3, 1, 3, 2, 3, 3, 3, 4, 4, 1, 4, 2, 4, 3, 4, 4]\n",
    "set(List)\n",
    "    "
   ]
  },
  {
   "cell_type": "code",
   "execution_count": null,
   "id": "ee5e16b5-a52b-4f88-93b2-2ddd8515a91a",
   "metadata": {},
   "outputs": [],
   "source": [
    "\"\"\"\n",
    "Q4. Explain the difference between the union() and update() methods for a set. Give an example of\n",
    "each method.\n",
    "\"\"\""
   ]
  },
  {
   "cell_type": "code",
   "execution_count": null,
   "id": "869351ad-ddf9-4bf3-af98-56b4fd6e55ba",
   "metadata": {},
   "outputs": [],
   "source": [
    "\"\"\"\n",
    "soln: union of two or more sets is the collection of all elements of every individual set into a large union set.\n",
    "\"\"\"\n"
   ]
  },
  {
   "cell_type": "code",
   "execution_count": 19,
   "id": "5c2289d3-f315-452d-95ab-550cfadba9b8",
   "metadata": {},
   "outputs": [],
   "source": [
    "# example for union\n",
    "set_1 = {1,2,3,4,5,\"gokul\",\"anand\",False}"
   ]
  },
  {
   "cell_type": "code",
   "execution_count": 20,
   "id": "4f2e49c2-83b2-4e50-af53-3de3dc9b4ee4",
   "metadata": {},
   "outputs": [],
   "source": [
    "set_2 = {6,7,8,9,10,\"data\",\"science\",True}"
   ]
  },
  {
   "cell_type": "code",
   "execution_count": 21,
   "id": "1a780a06-8674-4ce2-9dfe-a0772aec13e7",
   "metadata": {},
   "outputs": [
    {
     "data": {
      "text/plain": [
       "{1, 10, 2, 3, 4, 5, 6, 7, 8, 9, False, 'anand', 'data', 'gokul', 'science'}"
      ]
     },
     "execution_count": 21,
     "metadata": {},
     "output_type": "execute_result"
    }
   ],
   "source": [
    "set_1.union(set_2)"
   ]
  },
  {
   "cell_type": "code",
   "execution_count": 45,
   "id": "d8a3cd9c-67a4-48cf-b396-098a7ea483c9",
   "metadata": {},
   "outputs": [],
   "source": [
    "set_a = {1,2,3,5}"
   ]
  },
  {
   "cell_type": "code",
   "execution_count": 46,
   "id": "637f4d43-5007-4b89-ab90-86cdb7d3e5d2",
   "metadata": {},
   "outputs": [],
   "source": [
    "set_b = {1,2,4}"
   ]
  },
  {
   "cell_type": "code",
   "execution_count": 47,
   "id": "b58aeba9-1d04-4f1c-bc0e-0652581a41e7",
   "metadata": {},
   "outputs": [],
   "source": [
    "set_a.update(set_b)"
   ]
  },
  {
   "cell_type": "code",
   "execution_count": 48,
   "id": "7708367c-3c2c-4fff-a82b-b4e945e52904",
   "metadata": {},
   "outputs": [
    {
     "data": {
      "text/plain": [
       "{1, 2, 3, 4, 5}"
      ]
     },
     "execution_count": 48,
     "metadata": {},
     "output_type": "execute_result"
    }
   ],
   "source": [
    "set_a"
   ]
  },
  {
   "cell_type": "code",
   "execution_count": 49,
   "id": "93b6e76f-3933-4b97-8a1c-e0b04568c5c7",
   "metadata": {},
   "outputs": [],
   "source": [
    "set_b.update(set_a)"
   ]
  },
  {
   "cell_type": "code",
   "execution_count": 50,
   "id": "013d8cad-3b90-4612-b8d2-1de827177e4d",
   "metadata": {},
   "outputs": [
    {
     "data": {
      "text/plain": [
       "{1, 2, 3, 4, 5}"
      ]
     },
     "execution_count": 50,
     "metadata": {},
     "output_type": "execute_result"
    }
   ],
   "source": [
    "set_b"
   ]
  },
  {
   "cell_type": "code",
   "execution_count": null,
   "id": "91bbee1b-a228-407b-bdaa-b0bb2f928f92",
   "metadata": {},
   "outputs": [],
   "source": [
    "\"\"\"\n",
    "Q5. What is a dictionary? Give an example. Also, state whether a dictionary is ordered or unordered.\n",
    "\"\"\""
   ]
  },
  {
   "cell_type": "code",
   "execution_count": null,
   "id": "700170c8-7c61-490e-bb1a-04a8a561a07f",
   "metadata": {},
   "outputs": [],
   "source": [
    "\"\"\"\n",
    "soln: It is a data type which is represented by curly brackets. here , the elements are accessed using keys and elements are \n",
    "called values. This kind of key and value pair is called dictionary\n",
    "\"\"\""
   ]
  },
  {
   "cell_type": "code",
   "execution_count": 53,
   "id": "fc2c4a1a-e6d6-4398-ac1c-816bf6442090",
   "metadata": {},
   "outputs": [],
   "source": [
    "#example\n",
    "my_dict = {\"apple\" : 1 , \"orange\" : 2 , \"grapes\" : 3 , \"papaya\" : (1,2,3) , \"watermelon\" : True}"
   ]
  },
  {
   "cell_type": "code",
   "execution_count": 54,
   "id": "36b2590b-461a-4744-a8fb-f496e60c3443",
   "metadata": {},
   "outputs": [
    {
     "data": {
      "text/plain": [
       "{'apple': 1, 'orange': 2, 'grapes': 3, 'papaya': (1, 2, 3), 'watermelon': True}"
      ]
     },
     "execution_count": 54,
     "metadata": {},
     "output_type": "execute_result"
    }
   ],
   "source": [
    "my_dict"
   ]
  },
  {
   "cell_type": "code",
   "execution_count": null,
   "id": "14b72ccd-fce2-4b76-be3f-0f7a09fe727e",
   "metadata": {},
   "outputs": [],
   "source": [
    "\"\"\"\n",
    "The above dictionary is ordered dictionary as the values can easily be accesed by the corresponding keys\n",
    "\"\"\""
   ]
  },
  {
   "cell_type": "code",
   "execution_count": null,
   "id": "2b1fc631-04be-4172-914c-ce68dbd7345a",
   "metadata": {},
   "outputs": [],
   "source": [
    "\"\"\"\n",
    "Q5.Can we create a nested dictionary? If so, please give an example by creating a simple one-level\n",
    "nested dictionary.\n",
    "\"\"\""
   ]
  },
  {
   "cell_type": "code",
   "execution_count": null,
   "id": "34a84dc9-854f-4107-a646-aa05b6d896df",
   "metadata": {},
   "outputs": [],
   "source": [
    "\"\"\"\n",
    "soln: yes we can create a nested dictionary\n",
    "\"\"\""
   ]
  },
  {
   "cell_type": "code",
   "execution_count": 63,
   "id": "8fe7d9e2-88a6-4c23-b15e-20b6ee8bc563",
   "metadata": {},
   "outputs": [],
   "source": [
    "#example\n",
    "name = {\"person1\" : {\"name\" : \"gokul\",\"degree\" : \"btech\", \"branch\":\"ece\"} }"
   ]
  },
  {
   "cell_type": "code",
   "execution_count": null,
   "id": "4070fcad-fb4d-4c90-b39f-e544613d983b",
   "metadata": {},
   "outputs": [],
   "source": [
    "\"\"\"\n",
    "Q7. Using setdefault() method, create key named topics in the given dictionary and also add the value of\n",
    "the key as this list ['Python', 'Machine Learning’, 'Deep Learning']\n",
    "\"\"\""
   ]
  },
  {
   "cell_type": "code",
   "execution_count": 70,
   "id": "2b596a4a-3c96-48e3-a159-8d8da6bb0c77",
   "metadata": {},
   "outputs": [
    {
     "data": {
      "text/plain": [
       "['python', 'machinelearning', 'deeplearning']"
      ]
     },
     "execution_count": 70,
     "metadata": {},
     "output_type": "execute_result"
    }
   ],
   "source": [
    "dict1 = {'language' : 'Python', 'course': 'Data Science Masters'}\n",
    "dict1.setdefault(\"topics\", [\"python\",\"machinelearning\",\"deeplearning\"])"
   ]
  },
  {
   "cell_type": "code",
   "execution_count": 71,
   "id": "9c917001-b64f-469b-beb2-a61da6c80115",
   "metadata": {},
   "outputs": [
    {
     "data": {
      "text/plain": [
       "{'language': 'Python',\n",
       " 'course': 'Data Science Masters',\n",
       " 'topics': ['python', 'machinelearning', 'deeplearning']}"
      ]
     },
     "execution_count": 71,
     "metadata": {},
     "output_type": "execute_result"
    }
   ],
   "source": [
    "dict1"
   ]
  },
  {
   "cell_type": "code",
   "execution_count": null,
   "id": "ebed14fd-16ac-42c3-85dc-681cc7c2cc73",
   "metadata": {},
   "outputs": [],
   "source": [
    "\"\"\"\n",
    "Q8. What are the three view objects in dictionaries? Use the three in-built methods in python to display\n",
    "these three view objects for the given dictionary.\n",
    "dict1 = {'Sport': 'Cricket' , 'Teams': ['India', 'Australia', 'England', 'South Africa', 'Sri Lanka', 'New Zealand']}\n",
    "\"\"\"\n"
   ]
  },
  {
   "cell_type": "code",
   "execution_count": null,
   "id": "94e447c4-91fc-4b59-a577-3066221afbf6",
   "metadata": {},
   "outputs": [],
   "source": [
    "\"\"\" \n",
    "soln : the three view objects in python dictionary are:\n",
    "       1. dict_keys\n",
    "       2. dict_values\n",
    "       3. dict_items\n",
    "\"\"\""
   ]
  },
  {
   "cell_type": "code",
   "execution_count": 75,
   "id": "841c2de3-b337-4351-946a-dd9873033bf0",
   "metadata": {},
   "outputs": [],
   "source": [
    "dict1 = {'Sport': 'Cricket' , 'Teams': ['India', 'Australia', 'England', 'South Africa', 'Sri Lanka', 'New Zealand']}"
   ]
  },
  {
   "cell_type": "code",
   "execution_count": 76,
   "id": "417ebc08-71d1-4676-b828-7f366d303a2a",
   "metadata": {},
   "outputs": [
    {
     "data": {
      "text/plain": [
       "dict_keys(['Sport', 'Teams'])"
      ]
     },
     "execution_count": 76,
     "metadata": {},
     "output_type": "execute_result"
    }
   ],
   "source": [
    "dict1.keys()"
   ]
  },
  {
   "cell_type": "code",
   "execution_count": 77,
   "id": "db603c79-e4ed-4937-9ca7-239ad6884bbe",
   "metadata": {},
   "outputs": [
    {
     "data": {
      "text/plain": [
       "dict_values(['Cricket', ['India', 'Australia', 'England', 'South Africa', 'Sri Lanka', 'New Zealand']])"
      ]
     },
     "execution_count": 77,
     "metadata": {},
     "output_type": "execute_result"
    }
   ],
   "source": [
    "dict1.values()"
   ]
  },
  {
   "cell_type": "code",
   "execution_count": 78,
   "id": "3ae2ddba-0d0b-4a10-b469-52539338bae4",
   "metadata": {},
   "outputs": [
    {
     "data": {
      "text/plain": [
       "dict_items([('Sport', 'Cricket'), ('Teams', ['India', 'Australia', 'England', 'South Africa', 'Sri Lanka', 'New Zealand'])])"
      ]
     },
     "execution_count": 78,
     "metadata": {},
     "output_type": "execute_result"
    }
   ],
   "source": [
    "dict1.items()"
   ]
  },
  {
   "cell_type": "code",
   "execution_count": null,
   "id": "b4d317f9-f9ee-4dcf-a291-89efeb97799a",
   "metadata": {},
   "outputs": [],
   "source": []
  },
  {
   "cell_type": "code",
   "execution_count": null,
   "id": "96508b78-ef14-47f9-9e93-7b31aa1bcc70",
   "metadata": {},
   "outputs": [],
   "source": []
  },
  {
   "cell_type": "code",
   "execution_count": null,
   "id": "6d28c9da-2f25-4e52-9634-a278dc20b7ae",
   "metadata": {},
   "outputs": [],
   "source": []
  }
 ],
 "metadata": {
  "kernelspec": {
   "display_name": "Python 3 (ipykernel)",
   "language": "python",
   "name": "python3"
  },
  "language_info": {
   "codemirror_mode": {
    "name": "ipython",
    "version": 3
   },
   "file_extension": ".py",
   "mimetype": "text/x-python",
   "name": "python",
   "nbconvert_exporter": "python",
   "pygments_lexer": "ipython3",
   "version": "3.10.8"
  }
 },
 "nbformat": 4,
 "nbformat_minor": 5
}
